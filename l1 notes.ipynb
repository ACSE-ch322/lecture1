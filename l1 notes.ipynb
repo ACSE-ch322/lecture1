{
 "cells": [
  {
   "cell_type": "markdown",
   "metadata": {},
   "source": [
    "1. Create a repository via Github\n",
    "\n",
    "copy the link"
   ]
  },
  {
   "cell_type": "markdown",
   "metadata": {},
   "source": [
    "2. Clone a repository\n",
    "\n",
    "\n",
    "git clone https://.........."
   ]
  },
  {
   "cell_type": "markdown",
   "metadata": {},
   "source": [
    "3. Check the status\n",
    "\n",
    "git status"
   ]
  },
  {
   "cell_type": "markdown",
   "metadata": {},
   "source": [
    "4. make some changes and check the status again\n",
    "\n",
    "changes, for example, make a new file and then:  git add \"filename\"\n",
    "\n",
    "git diff\n",
    "\n",
    "git status"
   ]
  },
  {
   "cell_type": "markdown",
   "metadata": {},
   "source": [
    "5. commit the changes\n",
    "\n",
    "git commit -a -m \"an appropriate commit message\""
   ]
  },
  {
   "cell_type": "markdown",
   "metadata": {},
   "source": [
    "6. push changes to Github\n",
    "\n",
    "git push"
   ]
  },
  {
   "cell_type": "markdown",
   "metadata": {},
   "source": []
  },
  {
   "cell_type": "markdown",
   "metadata": {},
   "source": [
    "Collaborating with git/GitHub"
   ]
  },
  {
   "cell_type": "markdown",
   "metadata": {},
   "source": [
    "1. Clone the repository to a suitable location\n",
    "\n",
    "git clone http://....."
   ]
  },
  {
   "cell_type": "markdown",
   "metadata": {},
   "source": [
    "2. Creating a new named branch\n",
    "\n",
    "a. Check current branch(marked with*)\n",
    "\n",
    "git branch\n",
    "\n",
    "b. Create new branch\n",
    "\n",
    "git checkout -b new_branch_name\n",
    "\n",
    "c. run git branch again to check \n",
    "\n",
    "e. run \n",
    "\n",
    "git checkout existing_branch_main\n",
    "\n",
    "if move back run : git checkout main\n",
    "\n",
    "\n",
    "\n",
    "\n"
   ]
  },
  {
   "cell_type": "markdown",
   "metadata": {},
   "source": [
    "3. Pushing new branches to GitHub\n",
    "\n",
    "git push -u origin new_branch_name"
   ]
  },
  {
   "cell_type": "markdown",
   "metadata": {},
   "source": [
    "4. make some changes\n",
    "\n",
    "Remember to commit and push the changes as above steps"
   ]
  },
  {
   "cell_type": "markdown",
   "metadata": {},
   "source": [
    "5. push the branch to GitHub\n",
    "\n",
    "git push"
   ]
  },
  {
   "cell_type": "markdown",
   "metadata": {},
   "source": [
    "6. Finally save others changes\n",
    "\n",
    "git pull"
   ]
  },
  {
   "cell_type": "markdown",
   "metadata": {},
   "source": []
  },
  {
   "cell_type": "markdown",
   "metadata": {},
   "source": [
    "Virtual environments"
   ]
  },
  {
   "cell_type": "markdown",
   "metadata": {},
   "source": []
  }
 ],
 "metadata": {
  "language_info": {
   "name": "python"
  },
  "orig_nbformat": 4
 },
 "nbformat": 4,
 "nbformat_minor": 2
}
